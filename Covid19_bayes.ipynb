import pandas as pd
import numpy as np
import csv
from urllib.request import urlopen
from matplotlib import pyplot as plt
from matplotlib.dates import date2num, num2date
import seaborn as sb
import operator
from collections import Counter
from matplotlib.colors import ListedColormap
from matplotlib import dates as mdates
from matplotlib import ticker
from scipy import stats as sps
from scipy.interpolate import interp1d
from scipy import stats

#Global variables
R_T_MAX = 6
period = 14 # moving average period is 14 days
GAMMA = 1 / 14 # 1 divided by the moving average
keepAU = ['date', 'total_tests', 'new_cases', 'total_cases','population']
keep = ['date', 'postcode']
#Daily realtime corona cases data of NSW
dailycases = "https://data.nsw.gov.au/data/dataset/aefcde60-3b0c-4bc0-9af1-6fe652944ec2/resource/21304414-1ff1-4243-a5d2-f52778048b29/download/covid-19-cases-by-notification-date-and-postcode-local-health-district-and-local-government-area.csv"

dailytests ="https://covid.ourworldindata.org/data/owid-covid-data.csv"

teststartdate = '2020-01-25'
figsize = (1500 / 50, 400 / 50)
alpha=.90
coef = 90
